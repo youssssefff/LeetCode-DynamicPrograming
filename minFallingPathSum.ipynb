{
  "nbformat": 4,
  "nbformat_minor": 0,
  "metadata": {
    "colab": {
      "provenance": []
    },
    "kernelspec": {
      "name": "python3",
      "display_name": "Python 3"
    },
    "language_info": {
      "name": "python"
    }
  },
  "cells": [
    {
      "cell_type": "code",
      "execution_count": null,
      "metadata": {
        "id": "YkP3MVS9XRv1"
      },
      "outputs": [],
      "source": [
        "class Solution:\n",
        "    def minFallingPathSum(self, matrix: List[List[int]]) -> int:\n",
        "        n = len(matrix)\n",
        "        dp = [[0] * n for _ in range(n)]\n",
        "\n",
        "        for i in range(n):\n",
        "            dp[0][i] = matrix[0][i]\n",
        "\n",
        "        for in range (1,n):\n",
        "            for j in range(n):\n",
        "                if j == 0:\n",
        "                    dp[i][j] = min(dp[i-1][j],dp[i-1][j+1]) + matrix[i][j]\n",
        "                elif j == n-1:\n",
        "                    dp[i][j] = min(dp[i-1][j-1],dp[i-1][j]) + matrix[i][j]\n",
        "\n",
        "                else:\n",
        "                    dp[i][j] = min(dp[i-1][j-1],dp[i-1][j],dp[i-1][j+1]) + matrix[i][j]\n",
        "\n",
        "        return min(dp[-1])\n",
        "\n",
        "\n",
        ""
      ]
    }
  ]
}